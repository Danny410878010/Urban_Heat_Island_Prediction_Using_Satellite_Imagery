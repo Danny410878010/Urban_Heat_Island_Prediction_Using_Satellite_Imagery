{
 "cells": [
  {
   "cell_type": "code",
   "execution_count": null,
   "metadata": {},
   "outputs": [
    {
     "name": "stdout",
     "output_type": "stream",
     "text": [
      "Using device: mps\n",
      "Original TIFF CRS: EPSG:4326\n",
      "Reprojecting TIFF to UTM for correct buffering...\n",
      "New TIFF CRS after reprojection: EPSG:32618\n",
      "Raster bounds: BoundingBox(left=297192.3140653926, bottom=4311830.711916517, right=336053.61640117853, top=4347129.585479343)\n"
     ]
    },
    {
     "name": "stderr",
     "output_type": "stream",
     "text": [
      "Extracting values: 100%|██████████| 34502/34502 [01:30<00:00, 379.25it/s]\n"
     ]
    }
   ],
   "source": [
    "import pandas as pd\n",
    "import rioxarray as rxr\n",
    "import rasterio\n",
    "from rasterio.mask import mask\n",
    "from pyproj import Transformer, CRS\n",
    "from shapely.geometry import Point, mapping\n",
    "import numpy as np\n",
    "import torch\n",
    "from tqdm import tqdm\n",
    "\n",
    "def extract_buffered_satellite_data(tiff_path, csv_path, buffer_distance=50, use_gpu=True):\n",
    "    \"\"\"\n",
    "    Extracts the average band values within a specified buffer (in meters) \n",
    "    around each coordinate from a GeoTIFF using Mac MPS (GPU) acceleration.\n",
    "    \n",
    "    Parameters:\n",
    "        tiff_path (str): Path to the GeoTIFF file.\n",
    "        csv_path (str): Path to the CSV file containing Latitude and Longitude.\n",
    "        buffer_distance (float): Buffer radius in meters.\n",
    "        use_gpu (bool): Whether to use GPU (MPS) acceleration.\n",
    "    \n",
    "    Returns:\n",
    "        pd.DataFrame: DataFrame with average band values within the buffer.\n",
    "    \"\"\"\n",
    "    device = torch.device(\"mps\" if torch.backends.mps.is_available() and use_gpu else \"cpu\")\n",
    "    print(f\"Using device: {device}\")\n",
    "\n",
    "    dataset = rxr.open_rasterio(tiff_path)\n",
    "    tiff_crs = dataset.rio.crs\n",
    "    print(f\"Original TIFF CRS: {tiff_crs}\")\n",
    "\n",
    "    if not tiff_crs.is_projected:\n",
    "        print(\"Reprojecting TIFF to UTM for correct buffering...\")\n",
    "        reprojected_tiff_path = \"reprojected.tif\"\n",
    "        dataset = dataset.rio.reproject(dst_crs=CRS.from_epsg(32618))  # Example UTM Zone 18N\n",
    "        dataset.rio.to_raster(reprojected_tiff_path)\n",
    "        tiff_path = reprojected_tiff_path  # Use the reprojected file\n",
    "        tiff_crs = dataset.rio.crs\n",
    "        print(f\"New TIFF CRS after reprojection: {tiff_crs}\")\n",
    "\n",
    "    df = pd.read_csv(csv_path)\n",
    "    latitudes = torch.tensor(df['Latitude'].values, dtype=torch.float32, device=device)\n",
    "    longitudes = torch.tensor(df['Longitude'].values, dtype=torch.float32, device=device)\n",
    "\n",
    "    transformer = Transformer.from_crs(\"EPSG:4326\", tiff_crs, always_xy=True)\n",
    "    coords_np = np.vstack([longitudes.cpu().numpy(), latitudes.cpu().numpy()])\n",
    "    transformed_coords = np.array(transformer.transform(coords_np[0], coords_np[1]))\n",
    "\n",
    "    num_bands = dataset.shape[0]\n",
    "    band_values = {f'B{band+1:02d}': torch.full((len(df),), float('nan'), dtype=torch.float32, device=device) for band in range(num_bands)}\n",
    "\n",
    "    with rasterio.open(tiff_path) as src:\n",
    "        raster_bounds = src.bounds\n",
    "        print(f\"Raster bounds: {raster_bounds}\")\n",
    "\n",
    "        for idx, (x, y) in tqdm(enumerate(zip(transformed_coords[0], transformed_coords[1])),\n",
    "                                 total=len(latitudes), desc=\"Extracting values\"):\n",
    "            if not (raster_bounds.left <= x <= raster_bounds.right and raster_bounds.bottom <= y <= raster_bounds.top):\n",
    "                print(f\"Skipping point {idx} ({x:.2f}, {y:.2f}) - Outside raster bounds\")\n",
    "                continue\n",
    "            \n",
    "            point = Point(x, y).buffer(buffer_distance)\n",
    "            geojson_geom = [mapping(point)]\n",
    "\n",
    "            try:\n",
    "                out_image, _ = mask(src, geojson_geom, crop=True)\n",
    "                out_image = torch.tensor(out_image, dtype=torch.float32, device=device) \n",
    "\n",
    "                for band in range(out_image.shape[0]):\n",
    "                    band_values[f'B{band+1:02d}'][idx] = torch.nanmean(out_image[band])\n",
    "\n",
    "            except Exception as e:\n",
    "                print(f\"Skipping point {idx} ({y:.2f}, {x:.2f}) due to error: {e}\")\n",
    "\n",
    "    band_df = pd.DataFrame({key: band_values[key].cpu().numpy() for key in band_values})\n",
    "\n",
    "    return band_df\n",
    "\n",
    "tiff = '/Users/ibolam/Projects/Abroad/01. UMD/25SPRING_DATA605/InfoChallege/UMD_IC25_Participant_Package/S2_alloutput_IC25.tiff'\n",
    "trd = '/Users/ibolam/Projects/Abroad/01. UMD/25SPRING_DATA605/InfoChallege/UMD_IC25_Participant_Package/Training_Data_IC25.csv'\n",
    "\n",
    "# ✅ 8️⃣ Run with Mac MPS GPU Acceleration\n",
    "final_data = extract_buffered_satellite_data(tiff, trd, buffer_distance=50, use_gpu=True)\n",
    "\n",
    "# ✅ 9️⃣ Save results\n",
    "final_data.to_csv(\"output50.csv\", index=False)"
   ]
  },
  {
   "cell_type": "code",
   "execution_count": 2,
   "metadata": {},
   "outputs": [
    {
     "name": "stdout",
     "output_type": "stream",
     "text": [
      "Using device: mps\n",
      "Original TIFF CRS: EPSG:4326\n",
      "Reprojecting TIFF to UTM for correct buffering...\n",
      "New TIFF CRS after reprojection: EPSG:32618\n",
      "Raster bounds: BoundingBox(left=297192.3140653926, bottom=4311830.711916517, right=336053.61640117853, top=4347129.585479343)\n"
     ]
    },
    {
     "name": "stderr",
     "output_type": "stream",
     "text": [
      "Extracting values: 100%|██████████| 34502/34502 [01:36<00:00, 356.59it/s]\n"
     ]
    }
   ],
   "source": [
    "# ✅ 8️⃣ Run with Mac MPS GPU Acceleration\n",
    "final_data = extract_buffered_satellite_data(tiff, trd, buffer_distance=100, use_gpu=True)\n",
    "\n",
    "# ✅ 9️⃣ Save results\n",
    "final_data.to_csv(\"output100.csv\", index=False)"
   ]
  },
  {
   "cell_type": "code",
   "execution_count": 4,
   "metadata": {},
   "outputs": [
    {
     "name": "stdout",
     "output_type": "stream",
     "text": [
      "Using device: mps\n",
      "Original TIFF CRS: EPSG:4326\n",
      "Reprojecting TIFF to UTM for correct buffering...\n",
      "New TIFF CRS after reprojection: EPSG:32618\n",
      "Raster bounds: BoundingBox(left=297192.3140653926, bottom=4311830.711916517, right=336053.61640117853, top=4347129.585479343)\n"
     ]
    },
    {
     "name": "stderr",
     "output_type": "stream",
     "text": [
      "Extracting values: 100%|██████████| 34502/34502 [01:41<00:00, 340.54it/s]\n"
     ]
    }
   ],
   "source": [
    "# ✅ 8️⃣ Run with Mac MPS GPU Acceleration\n",
    "final_data = extract_buffered_satellite_data(tiff, trd, buffer_distance=150, use_gpu=True)\n",
    "\n",
    "# ✅ 9️⃣ Save results\n",
    "final_data.to_csv(\"output150.csv\", index=False)"
   ]
  },
  {
   "cell_type": "code",
   "execution_count": 3,
   "metadata": {},
   "outputs": [
    {
     "name": "stdout",
     "output_type": "stream",
     "text": [
      "Using device: mps\n",
      "Original TIFF CRS: EPSG:4326\n",
      "Reprojecting TIFF to UTM for correct buffering...\n",
      "New TIFF CRS after reprojection: EPSG:32618\n",
      "Raster bounds: BoundingBox(left=297192.3140653926, bottom=4311830.711916517, right=336053.61640117853, top=4347129.585479343)\n"
     ]
    },
    {
     "name": "stderr",
     "output_type": "stream",
     "text": [
      "Extracting values: 100%|██████████| 34502/34502 [01:45<00:00, 326.65it/s]\n"
     ]
    }
   ],
   "source": [
    "# ✅ 8️⃣ Run with Mac MPS GPU Acceleration\n",
    "final_data = extract_buffered_satellite_data(tiff, trd, buffer_distance=200, use_gpu=True)\n",
    "\n",
    "# ✅ 9️⃣ Save results\n",
    "final_data.to_csv(\"output200.csv\", index=False)"
   ]
  }
 ],
 "metadata": {
  "kernelspec": {
   "display_name": "DL-torch310",
   "language": "python",
   "name": "python3"
  },
  "language_info": {
   "codemirror_mode": {
    "name": "ipython",
    "version": 3
   },
   "file_extension": ".py",
   "mimetype": "text/x-python",
   "name": "python",
   "nbconvert_exporter": "python",
   "pygments_lexer": "ipython3",
   "version": "3.10.15"
  }
 },
 "nbformat": 4,
 "nbformat_minor": 2
}
